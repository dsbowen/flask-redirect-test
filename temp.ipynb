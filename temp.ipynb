{
 "cells": [
  {
   "cell_type": "code",
   "execution_count": 1,
   "source": [
    "import os\n",
    "\n",
    "os.environ"
   ],
   "outputs": [
    {
     "output_type": "execute_result",
     "data": {
      "text/plain": [
       "environ{'SHELL': '/bin/bash',\n",
       "        'PIPENV_VENV_IN_PROJECT': 'true',\n",
       "        'GP_PREVIEW_BROWSER': '/ide/bin/code --preview',\n",
       "        'PYENV_SHELL': 'bash',\n",
       "        'rvm_prefix': '/home/gitpod',\n",
       "        'SUPERVISOR_ADDR': 'localhost:22999',\n",
       "        'HOSTNAME': 'ws-fcc75e1e-42f8-4afe-82fe-a5fe8c4a6927',\n",
       "        'GITPOD_REPO_ROOT': '/workspace/flask-redirect-test',\n",
       "        'JAVA_HOME': '/home/gitpod/.sdkman/candidates/java/current',\n",
       "        'GRADLE_HOME': '/home/gitpod/.sdkman/candidates/gradle/current',\n",
       "        'GITPOD_ANALYTICS_WRITER': 'segment',\n",
       "        'TRIGGER_REBUILD': '3',\n",
       "        'TRIGGER_BREW_REBUILD': '4',\n",
       "        'MY_RUBY_HOME': '/home/gitpod/.rvm/rubies/ruby-2.7.3',\n",
       "        'PIP_USER': 'yes',\n",
       "        'THEIA_RATELIMIT_LOG': '50',\n",
       "        'SDKMAN_CANDIDATES_DIR': '/home/gitpod/.sdkman/candidates',\n",
       "        'EDITOR': '/ide/bin/code',\n",
       "        'RUBY_VERSION': 'ruby-2.7.3',\n",
       "        'PWD': '/ide',\n",
       "        'PYENV_VIRTUALENV_INIT': '1',\n",
       "        'THEIA_WORKSPACE_ROOT': '/workspace/flask-redirect-test',\n",
       "        'GP_OPEN_EDITOR': '/ide/bin/code',\n",
       "        'rvm_version': '1.29.12 (latest)',\n",
       "        'MANPATH': ':/home/linuxbrew/.linuxbrew/share/man',\n",
       "        'GP_EXTERNAL_BROWSER': '/ide/bin/code --openExternal',\n",
       "        'HOME': '/home/gitpod',\n",
       "        'LANG': 'en_US.UTF-8',\n",
       "        'GITPOD_WORKSPACE_ID': 'pink-ape-9ygutlzr',\n",
       "        'GITPOD_INTERVAL': '30000',\n",
       "        'LS_COLORS': '',\n",
       "        'CARGO_HOME': '/workspace/.cargo',\n",
       "        'GITPOD_WORKSPACE_CONTEXT_URL': 'https://github.com/dsbowen/flask-redirect-test',\n",
       "        'THEIA_MINI_BROWSER_HOST_PATTERN': 'browser-{{hostname}}',\n",
       "        'SDKMAN_VERSION': '5.12.2',\n",
       "        'GITPOD_INSTANCE_ID': 'fcc75e1e-42f8-4afe-82fe-a5fe8c4a6927',\n",
       "        'THEIA_WEBVIEW_EXTERNAL_ENDPOINT': 'webview-{{hostname}}',\n",
       "        'GITPOD_EXTERNAL_EXTENSIONS': '[]',\n",
       "        'NGINX_DOCROOT_IN_REPO': 'public',\n",
       "        'GOROOT': '/home/gitpod/go',\n",
       "        'HOMEBREW_NO_AUTO_UPDATE': '1',\n",
       "        'GITPOD_WORKSPACE_URL': 'https://pink-ape-9ygutlzr.ws-us18.gitpod.io',\n",
       "        'INFOPATH': ':/home/linuxbrew/.linuxbrew/share/info',\n",
       "        'GITPOD_THEIA_PORT': '23000',\n",
       "        'NVM_DIR': '/home/gitpod/.nvm',\n",
       "        'GITPOD_WORKSPACE_CONTEXT': '{\"isFile\":false,\"path\":\"\",\"title\":\"dsbowen/flask-redirect-test - main\",\"ref\":\"main\",\"refType\":\"branch\",\"revision\":\"0337a72636beba3976d970860ff647103e4266af\",\"repository\":{\"cloneUrl\":\"https://github.com/dsbowen/flask-redirect-test.git\",\"host\":\"github.com\",\"name\":\"flask-redirect-test\",\"owner\":\"dsbowen\",\"private\":false},\"snapshotBucketId\":\"workspaces/coral-rhinoceros-4iwbot4b/snapshot-1633957875495003668.tar@gitpod-prod-user-308829a4-35f5-47d3-9131-37669a8930d5\",\"prebuildWorkspaceId\":\"38da0bbd-0561-4863-b86a-831db7148283\",\"wasPrebuilt\":true}',\n",
       "        'rvm_bin_path': '/home/gitpod/.rvm/bin',\n",
       "        'GO_VERSION': '1.17.2',\n",
       "        'GEM_PATH': '/home/gitpod/.rvm/gems/ruby-2.7.3:/home/gitpod/.rvm/gems/ruby-2.7.3@global',\n",
       "        'GRADLE_USER_HOME': '/workspace/.gradle/',\n",
       "        'GITPOD_CLI_APITOKEN': 'eRYQfxknTZuEaxletCeVtps_XFXHOTPo',\n",
       "        'GEM_HOME': '/home/gitpod/.rvm/gems/ruby-2.7.3',\n",
       "        'LESSCLOSE': '/usr/bin/lesspipe %s %s',\n",
       "        'LESSOPEN': '| /usr/bin/lesspipe %s',\n",
       "        'USER': 'gitpod',\n",
       "        'JAVA_TOOL_OPTIONS': '-Xmx1879m',\n",
       "        'GITPOD_WORKSPACE_CLUSTER_HOST': 'ws-us18.gitpod.io',\n",
       "        'GITPOD_GIT_USER_NAME': 'dsbowen',\n",
       "        'MAVEN_HOME': '/home/gitpod/.sdkman/candidates/maven/current',\n",
       "        'VISUAL': '/ide/bin/code',\n",
       "        'SDKMAN_DIR': '/home/gitpod/.sdkman',\n",
       "        'SHLVL': '0',\n",
       "        'GIT_EDITOR': '/ide/bin/code --wait',\n",
       "        'GITPOD_MEMORY': '1879',\n",
       "        'SDKMAN_CANDIDATES_API': 'https://api.sdkman.io/2',\n",
       "        'PS1': '\\\\[\\x1b]0;\\\\u \\\\w\\x07\\\\]\\\\[\\x1b[01;32m\\\\]\\\\u\\\\[\\x1b[00m\\\\] \\\\[\\x1b[01;34m\\\\]\\\\w\\\\[\\x1b[00m\\\\] \\\\$ ',\n",
       "        'GITPOD_ANALYTICS_SEGMENT_KEY': 'bUY8IRdJ42KjLOBS9LoIHMYFBD8rSzjU',\n",
       "        'GITPOD_HOST': 'https://gitpod.io',\n",
       "        'GITPOD_IDE_ALIAS': 'code',\n",
       "        'BROWSER': 'gp-preview',\n",
       "        'PATH': '/home/gitpod/.sdkman/candidates/maven/current/bin:/home/gitpod/.sdkman/candidates/java/current/bin:/home/gitpod/.sdkman/candidates/gradle/current/bin:/home/gitpod/.rvm/gems/ruby-2.7.3/bin:/home/gitpod/.rvm/gems/ruby-2.7.3@global/bin:/home/gitpod/.rvm/rubies/ruby-2.7.3/bin:/home/gitpod/.pyenv/plugins/pyenv-virtualenv/shims:/workspace/.cargo/bin:/workspace/.pip-modules/bin:/workspace/.rvm/bin:/ide/bin:/workspace/.cargo/bin:/workspace/.rvm/bin:/workspace/.pip-modules/bin:/home/gitpod/.pyenv/bin:/home/gitpod/.pyenv/shims:/workspace/go/bin:/home/gitpod/go/bin:/home/gitpod/go-packages/bin:/usr/local/sbin:/usr/local/bin:/usr/sbin:/usr/bin:/sbin:/bin:/home/linuxbrew/.linuxbrew/bin:/home/linuxbrew/.linuxbrew/sbin/:/home/gitpod/.nvm/versions/node/v16.11.0/bin:/home/gitpod/.cargo/bin:/usr/games:/usr/games:/home/gitpod/.nvm/versions/node/v16.11.0/bin:/home/gitpod/.rvm/bin:/home/gitpod/.nvm/versions/node/v16.11.0/bin',\n",
       "        'PYTHONUSERBASE': '/workspace/.pip-modules',\n",
       "        'SDKMAN_PLATFORM': 'linuxx64',\n",
       "        'APACHE_DOCROOT_IN_REPO': 'public',\n",
       "        'GITPOD_RESOLVED_EXTENSIONS': '{\"vscode.bat@1.44.2\":{\"fullPluginName\":\"vscode.bat@1.44.2\",\"url\":\"local\",\"kind\":\"builtin\"},\"vscode.clojure@1.44.2\":{\"fullPluginName\":\"vscode.clojure@1.44.2\",\"url\":\"local\",\"kind\":\"builtin\"},\"vscode.coffeescript@1.44.2\":{\"fullPluginName\":\"vscode.coffeescript@1.44.2\",\"url\":\"local\",\"kind\":\"builtin\"},\"vscode.cpp@1.44.2\":{\"fullPluginName\":\"vscode.cpp@1.44.2\",\"url\":\"local\",\"kind\":\"builtin\"},\"vscode.csharp@1.44.2\":{\"fullPluginName\":\"vscode.csharp@1.44.2\",\"url\":\"local\",\"kind\":\"builtin\"},\"llvm-vs-code-extensions.vscode-clangd@0.1.5\":{\"fullPluginName\":\"llvm-vs-code-extensions.vscode-clangd@0.1.5\",\"url\":\"local\",\"kind\":\"builtin\"},\"vscode.css@1.51.1\":{\"fullPluginName\":\"vscode.css@1.51.1\",\"url\":\"local\",\"kind\":\"builtin\"},\"vscode.css-language-features@1.51.1\":{\"fullPluginName\":\"vscode.css-language-features@1.51.1\",\"url\":\"local\",\"kind\":\"builtin\"},\"vscode.debug-auto-launch@1.44.2\":{\"fullPluginName\":\"vscode.debug-auto-launch@1.44.2\",\"url\":\"local\",\"kind\":\"builtin\"},\"vscode.emmet@1.44.2\":{\"fullPluginName\":\"vscode.emmet@1.44.2\",\"url\":\"local\",\"kind\":\"builtin\"},\"vscode.fsharp@1.44.2\":{\"fullPluginName\":\"vscode.fsharp@1.44.2\",\"url\":\"local\",\"kind\":\"builtin\"},\"vscode.go@1.44.2\":{\"fullPluginName\":\"vscode.go@1.44.2\",\"url\":\"local\",\"kind\":\"builtin\"},\"vscode.groovy@1.44.2\":{\"fullPluginName\":\"vscode.groovy@1.44.2\",\"url\":\"local\",\"kind\":\"builtin\"},\"vscode.handlebars@1.44.2\":{\"fullPluginName\":\"vscode.handlebars@1.44.2\",\"url\":\"local\",\"kind\":\"builtin\"},\"vscode.hlsl@1.44.2\":{\"fullPluginName\":\"vscode.hlsl@1.44.2\",\"url\":\"local\",\"kind\":\"builtin\"},\"vscode.html@1.51.1\":{\"fullPluginName\":\"vscode.html@1.51.1\",\"url\":\"local\",\"kind\":\"builtin\"},\"vscode.html-language-features@1.51.1\":{\"fullPluginName\":\"vscode.html-language-features@1.51.1\",\"url\":\"local\",\"kind\":\"builtin\"},\"vscode.ini@1.44.2\":{\"fullPluginName\":\"vscode.ini@1.44.2\",\"url\":\"local\",\"kind\":\"builtin\"},\"vscode.java@1.53.2\":{\"fullPluginName\":\"vscode.java@1.53.2\",\"url\":\"local\",\"kind\":\"builtin\"},\"vscode.javascript@1.44.2\":{\"fullPluginName\":\"vscode.javascript@1.44.2\",\"url\":\"local\",\"kind\":\"builtin\"},\"vscode.json@1.44.2\":{\"fullPluginName\":\"vscode.json@1.44.2\",\"url\":\"local\",\"kind\":\"builtin\"},\"vscode.json-language-features@1.46.1\":{\"fullPluginName\":\"vscode.json-language-features@1.46.1\",\"url\":\"local\",\"kind\":\"builtin\"},\"vscode.less@1.44.2\":{\"fullPluginName\":\"vscode.less@1.44.2\",\"url\":\"local\",\"kind\":\"builtin\"},\"vscode.log@1.44.2\":{\"fullPluginName\":\"vscode.log@1.44.2\",\"url\":\"local\",\"kind\":\"builtin\"},\"vscode.lua@1.44.2\":{\"fullPluginName\":\"vscode.lua@1.44.2\",\"url\":\"local\",\"kind\":\"builtin\"},\"vscode.make@1.44.2\":{\"fullPluginName\":\"vscode.make@1.44.2\",\"url\":\"local\",\"kind\":\"builtin\"},\"vscode.markdown@1.44.2\":{\"fullPluginName\":\"vscode.markdown@1.44.2\",\"url\":\"local\",\"kind\":\"builtin\"},\"vscode.npm@1.39.1\":{\"fullPluginName\":\"vscode.npm@1.39.1\",\"url\":\"local\",\"kind\":\"builtin\"},\"vscode.objective-c@1.44.2\":{\"fullPluginName\":\"vscode.objective-c@1.44.2\",\"url\":\"local\",\"kind\":\"builtin\"},\"vscode.perl@1.44.2\":{\"fullPluginName\":\"vscode.perl@1.44.2\",\"url\":\"local\",\"kind\":\"builtin\"},\"vscode.php@1.44.2\":{\"fullPluginName\":\"vscode.php@1.44.2\",\"url\":\"local\",\"kind\":\"builtin\"},\"vscode.powershell@1.44.2\":{\"fullPluginName\":\"vscode.powershell@1.44.2\",\"url\":\"local\",\"kind\":\"builtin\"},\"vscode.pug@1.44.2\":{\"fullPluginName\":\"vscode.pug@1.44.2\",\"url\":\"local\",\"kind\":\"builtin\"},\"vscode.python@1.47.3\":{\"fullPluginName\":\"vscode.python@1.47.3\",\"url\":\"local\",\"kind\":\"builtin\"},\"vscode.r@1.44.2\":{\"fullPluginName\":\"vscode.r@1.44.2\",\"url\":\"local\",\"kind\":\"builtin\"},\"vscode.razor@1.44.2\":{\"fullPluginName\":\"vscode.razor@1.44.2\",\"url\":\"local\",\"kind\":\"builtin\"},\"vscode.ruby@1.44.2\":{\"fullPluginName\":\"vscode.ruby@1.44.2\",\"url\":\"local\",\"kind\":\"builtin\"},\"vscode.rust@1.44.2\":{\"fullPluginName\":\"vscode.rust@1.44.2\",\"url\":\"local\",\"kind\":\"builtin\"},\"vscode.scss@1.44.2\":{\"fullPluginName\":\"vscode.scss@1.44.2\",\"url\":\"local\",\"kind\":\"builtin\"},\"vscode.shaderlab@1.44.2\":{\"fullPluginName\":\"vscode.shaderlab@1.44.2\",\"url\":\"local\",\"kind\":\"builtin\"},\"vscode.shellscript@1.44.2\":{\"fullPluginName\":\"vscode.shellscript@1.44.2\",\"url\":\"local\",\"kind\":\"builtin\"},\"vscode.sql@1.44.2\":{\"fullPluginName\":\"vscode.sql@1.44.2\",\"url\":\"local\",\"kind\":\"builtin\"},\"vscode.swift@1.44.2\":{\"fullPluginName\":\"vscode.swift@1.44.2\",\"url\":\"local\",\"kind\":\"builtin\"},\"vscode.typescript@1.44.2\":{\"fullPluginName\":\"vscode.typescript@1.44.2\",\"url\":\"local\",\"kind\":\"builtin\"},\"vscode.typescript-language-features@1.44.2\":{\"fullPluginName\":\"vscode.typescript-language-features@1.44.2\",\"url\":\"local\",\"kind\":\"builtin\"},\"vscode.vb@1.44.2\":{\"fullPluginName\":\"vscode.vb@1.44.2\",\"url\":\"local\",\"kind\":\"builtin\"},\"vscode.xml@1.44.2\":{\"fullPluginName\":\"vscode.xml@1.44.2\",\"url\":\"local\",\"kind\":\"builtin\"},\"vscode.yaml@1.44.2\":{\"fullPluginName\":\"vscode.yaml@1.44.2\",\"url\":\"local\",\"kind\":\"builtin\"},\"redhat.java@0.75.0\":{\"fullPluginName\":\"redhat.java@0.75.0\",\"url\":\"local\",\"kind\":\"builtin\"},\"vscjava.vscode-java-debug@0.27.1\":{\"fullPluginName\":\"vscjava.vscode-java-debug@0.27.1\",\"url\":\"local\",\"kind\":\"builtin\"},\"vscjava.vscode-java-dependency@0.18.0\":{\"fullPluginName\":\"vscjava.vscode-java-dependency@0.18.0\",\"url\":\"local\",\"kind\":\"builtin\"},\"ms-vscode.node-debug@1.38.4\":{\"fullPluginName\":\"ms-vscode.node-debug@1.38.4\",\"url\":\"local\",\"kind\":\"builtin\"},\"ms-vscode.node-debug2@1.33.0\":{\"fullPluginName\":\"ms-vscode.node-debug2@1.33.0\",\"url\":\"local\",\"kind\":\"builtin\"},\"golang.Go@0.14.4\":{\"fullPluginName\":\"golang.go@0.14.4\",\"url\":\"local\",\"kind\":\"builtin\"},\"redhat.vscode-xml@0.11.0\":{\"fullPluginName\":\"redhat.vscode-xml@0.11.0\",\"url\":\"local\",\"kind\":\"builtin\"},\"redhat.vscode-yaml@0.8.0\":{\"fullPluginName\":\"redhat.vscode-yaml@0.8.0\",\"url\":\"local\",\"kind\":\"builtin\"},\"bmewburn.vscode-intelephense-client@1.4.0\":{\"fullPluginName\":\"bmewburn.vscode-intelephense-client@1.4.0\",\"url\":\"local\",\"kind\":\"builtin\"},\"felixfbecker.php-debug@1.13.0\":{\"fullPluginName\":\"felixfbecker.php-debug@1.13.0\",\"url\":\"local\",\"kind\":\"builtin\"},\"rust-lang.rust@0.7.8\":{\"fullPluginName\":\"rust-lang.rust@0.7.8\",\"url\":\"local\",\"kind\":\"builtin\"},\"vscode.theme-abyss@1.44.2\":{\"fullPluginName\":\"vscode.theme-abyss@1.44.2\",\"url\":\"local\",\"kind\":\"builtin\"},\"vscode.theme-kimbie-dark@1.44.2\":{\"fullPluginName\":\"vscode.theme-kimbie-dark@1.44.2\",\"url\":\"local\",\"kind\":\"builtin\"},\"vscode.theme-monokai@1.44.2\":{\"fullPluginName\":\"vscode.theme-monokai@1.44.2\",\"url\":\"local\",\"kind\":\"builtin\"},\"vscode.theme-monokai-dimmed@1.44.2\":{\"fullPluginName\":\"vscode.theme-monokai-dimmed@1.44.2\",\"url\":\"local\",\"kind\":\"builtin\"},\"vscode.theme-quietlight@1.44.2\":{\"fullPluginName\":\"vscode.theme-quietlight@1.44.2\",\"url\":\"local\",\"kind\":\"builtin\"},\"vscode.theme-red@1.44.2\":{\"fullPluginName\":\"vscode.theme-red@1.44.2\",\"url\":\"local\",\"kind\":\"builtin\"},\"vscode.theme-solarized-dark@1.44.2\":{\"fullPluginName\":\"vscode.theme-solarized-dark@1.44.2\",\"url\":\"local\",\"kind\":\"builtin\"},\"vscode.theme-solarized-light@1.44.2\":{\"fullPluginName\":\"vscode.theme-solarized-light@1.44.2\",\"url\":\"local\",\"kind\":\"builtin\"},\"vscode.theme-tomorrow-night-blue@1.44.2\":{\"fullPluginName\":\"vscode.theme-tomorrow-night-blue@1.44.2\",\"url\":\"local\",\"kind\":\"builtin\"},\"vscode.vscode-theme-seti@1.44.2\":{\"fullPluginName\":\"vscode.vscode-theme-seti@1.44.2\",\"url\":\"local\",\"kind\":\"builtin\"},\"vscode.merge-conflict@1.44.2\":{\"fullPluginName\":\"vscode.merge-conflict@1.44.2\",\"url\":\"local\",\"kind\":\"builtin\"},\"ms-vscode.references-view@0.0.47\":{\"fullPluginName\":\"ms-vscode.references-view@0.0.47\",\"url\":\"local\",\"kind\":\"builtin\"},\"EditorConfig.EditorConfig@0.15.1\":{\"fullPluginName\":\"editorconfig.editorconfig@0.15.1\",\"url\":\"local\",\"kind\":\"builtin\"},\"vscode.docker@1.47.3\":{\"fullPluginName\":\"vscode.docker@1.47.3\",\"url\":\"local\",\"kind\":\"builtin\"},\"ms-python.python\":{\"fullPluginName\":\"ms-python.python@2021.9.1246542782\",\"url\":\"https://open-vsx.org/api/ms-python/python/2021.9.1246542782/file/ms-python.python-2021.9.1246542782.vsix\",\"kind\":\"workspace\"}}',\n",
       "        'NODE_VERSION': '16.11.0',\n",
       "        'GITPOD_GIT_USER_EMAIL': 'dsbowen@wharton.upenn.edu',\n",
       "        'IRBRC': '/home/gitpod/.rvm/rubies/ruby-2.7.3/.irbrc',\n",
       "        'VSX_REGISTRY_URL': 'https://open-vsx.org',\n",
       "        'rvm_path': '/home/gitpod/.rvm',\n",
       "        'OLDPWD': '/',\n",
       "        'GOPATH': '/workspace/go',\n",
       "        'GITPOD_TASKS': '[{\"before\":\"export FLASK_APP=flaskr\\\\nexport FLASK_ENV=development\\\\n\",\"init\":\"pip install -e .\\\\nflask init-db\\\\n\",\"command\":\"python app.py\\\\n\"}]',\n",
       "        'VSCODE_INJECT_NODE_MODULE_LOOKUP_PATH': '/ide/remote/node_modules',\n",
       "        'VSCODE_CWD': '/ide',\n",
       "        'VSCODE_AMD_ENTRYPOINT': 'vs/workbench/services/extensions/node/extensionHostProcess',\n",
       "        'VSCODE_PIPE_LOGGING': 'true',\n",
       "        'VSCODE_VERBOSE_LOGGING': 'true',\n",
       "        'VSCODE_LOG_NATIVE': 'false',\n",
       "        'VSCODE_EXTHOST_WILL_SEND_SOCKET': 'true',\n",
       "        'VSCODE_HANDLES_UNCAUGHT_ERRORS': 'true',\n",
       "        'VSCODE_LOG_STACK': 'true',\n",
       "        'GITPOD_CODE_HOST': 'https://gitpod.io',\n",
       "        'VSCODE_IPC_HOOK_CLI': '/tmp/vscode-ipc-40920471-642d-41e0-a9e1-3701fa0722ba.sock',\n",
       "        'APPLICATION_INSIGHTS_NO_DIAGNOSTIC_CHANNEL': 'true',\n",
       "        'PYTHONPATH': '/home/gitpod/.gitpod-code/extensions/ms-toolsai.jupyter-2021.8.12/pythonFiles:/home/gitpod/.gitpod-code/extensions/ms-toolsai.jupyter-2021.8.12/pythonFiles/lib/python',\n",
       "        'PYTHONUNBUFFERED': '1',\n",
       "        'PYTHONIOENCODING': 'utf-8',\n",
       "        'JPY_PARENT_PID': '1822',\n",
       "        'PYDEVD_USE_FRAME_EVAL': 'NO',\n",
       "        'TERM': 'xterm-color',\n",
       "        'CLICOLOR': '1',\n",
       "        'PAGER': 'cat',\n",
       "        'GIT_PAGER': 'cat',\n",
       "        'MPLBACKEND': 'module://matplotlib_inline.backend_inline'}"
      ]
     },
     "metadata": {},
     "execution_count": 1
    }
   ],
   "metadata": {}
  },
  {
   "cell_type": "code",
   "execution_count": 6,
   "source": [
    "import subprocess\n",
    "\n",
    "subprocess.check_output(\"gp url 5000\", shell=True)"
   ],
   "outputs": [
    {
     "output_type": "execute_result",
     "data": {
      "text/plain": [
       "b'https://5000-pink-ape-9ygutlzr.ws-us18.gitpod.io\\n'"
      ]
     },
     "metadata": {},
     "execution_count": 6
    }
   ],
   "metadata": {}
  }
 ],
 "metadata": {
  "orig_nbformat": 4,
  "language_info": {
   "name": "python",
   "version": "3.8.12",
   "mimetype": "text/x-python",
   "codemirror_mode": {
    "name": "ipython",
    "version": 3
   },
   "pygments_lexer": "ipython3",
   "nbconvert_exporter": "python",
   "file_extension": ".py"
  },
  "kernelspec": {
   "name": "python3",
   "display_name": "Python 3.8.12 64-bit ('3.8.12': pyenv)"
  },
  "interpreter": {
   "hash": "625c31d6b4db3d7e7e2853cc30dc2062e1cda684f3e49d5f899ae496ae755fe0"
  }
 },
 "nbformat": 4,
 "nbformat_minor": 2
}